{
  "nbformat": 4,
  "nbformat_minor": 0,
  "metadata": {
    "colab": {
      "provenance": [],
      "authorship_tag": "ABX9TyNjriji0g2OGDGRPPVD9j02",
      "include_colab_link": true
    },
    "kernelspec": {
      "name": "python3",
      "display_name": "Python 3"
    },
    "language_info": {
      "name": "python"
    }
  },
  "cells": [
    {
      "cell_type": "markdown",
      "metadata": {
        "id": "view-in-github",
        "colab_type": "text"
      },
      "source": [
        "<a href=\"https://colab.research.google.com/github/1biancaneves/POSTECH-techchallenge2/blob/main/Teste_predi%C3%A7%C3%A3o_bovespa.ipynb\" target=\"_parent\"><img src=\"https://colab.research.google.com/assets/colab-badge.svg\" alt=\"Open In Colab\"/></a>"
      ]
    },
    {
      "cell_type": "code",
      "execution_count": 1,
      "metadata": {
        "colab": {
          "base_uri": "https://localhost:8080/"
        },
        "id": "U_-HTc8q963-",
        "outputId": "e3560642-6c8d-448f-9249-46c14454b5b8"
      },
      "outputs": [
        {
          "output_type": "stream",
          "name": "stdout",
          "text": [
            "Acurácia (R²): 99.96%\n",
            "Exemplo de entrada: {'Abertura': 73.154, 'Máxima': 73.92, 'Mínima': 71.695, 'Vol.': 1540000.0}\n",
            "Predição: 72.88177000000005\n"
          ]
        }
      ],
      "source": [
        "import pandas as pd\n",
        "from sklearn.model_selection import train_test_split\n",
        "from sklearn.ensemble import RandomForestRegressor\n",
        "from sklearn.metrics import r2_score\n",
        "\n",
        "df = pd.read_csv(\"Dados Históricos - Ibovespa - 20 anos.csv\")\n",
        "\n",
        "# Limpando e convertendo os dados\n",
        "df['Data'] = pd.to_datetime(df['Data'], format='%d.%m.%Y')\n",
        "df = df.sort_values('Data')\n",
        "\n",
        "# Função para limpar números\n",
        "def clean_number(x):\n",
        "    if isinstance(x, str):\n",
        "        return float(x.replace('.', '').replace(',', '.').replace('%', ''))\n",
        "    return x\n",
        "\n",
        "for col in ['Último', 'Abertura', 'Máxima', 'Mínima', 'Var%']:\n",
        "    df[col] = df[col].apply(clean_number)\n",
        "\n",
        "# Corrige e converte a coluna 'Vol.'\n",
        "df['Vol.'] = df['Vol.'].replace({'\\.': '', ',': '.', 'K': 'e3', 'M': 'e6', 'B': 'e9'}, regex=True)\n",
        "df['Vol.'] = pd.to_numeric(df['Vol.'], errors='coerce')\n",
        "\n",
        "# Remove linhas com valores ausentes\n",
        "df = df.dropna()\n",
        "\n",
        "# Seleciona as variáveis\n",
        "X = df[['Abertura', 'Máxima', 'Mínima', 'Vol.']]\n",
        "y = df['Último']\n",
        "\n",
        "# Divide entre treino e teste\n",
        "X_train, X_test, y_train, y_test = train_test_split(X, y, test_size=0.2, random_state=42)\n",
        "\n",
        "# Modelo de regressão\n",
        "model = RandomForestRegressor(n_estimators=100, random_state=42)\n",
        "model.fit(X_train, y_train)\n",
        "\n",
        "# Avaliar o modelo\n",
        "y_pred = model.predict(X_test)\n",
        "r2 = r2_score(y_test, y_pred)\n",
        "\n",
        "print(f\"Acurácia (R²): {r2:.2%}\")\n",
        "\n",
        "# Exemplo de previsão com novos dados\n",
        "exemplo = X_test.iloc[0:1]\n",
        "print(\"Exemplo de entrada:\", exemplo.to_dict(orient='records')[0])\n",
        "print(\"Predição:\", model.predict(exemplo)[0])\n"
      ]
    }
  ]
}